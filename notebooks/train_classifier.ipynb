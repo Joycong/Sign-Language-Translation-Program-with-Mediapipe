{
 "cells": [
  {
   "cell_type": "code",
   "execution_count": null,
   "id": "06d24da6-1bbc-4994-b924-e96667b54367",
   "metadata": {},
   "outputs": [],
   "source": [
    "!pip install scikit-learn --user --upgrade\n",
    "!pip install xgboost"
   ]
  },
  {
   "cell_type": "code",
   "execution_count": null,
   "id": "c1fc3a38",
   "metadata": {},
   "outputs": [],
   "source": [
    "import pickle\n",
    "import sklearn\n",
    "\n",
    "from sklearn.ensemble import RandomForestClassifier\n",
    "from sklearn.model_selection import train_test_split\n",
    "from sklearn.metrics import accuracy_score\n",
    "from sklearn.neural_network import MLPClassifier\n",
    "from sklearn.preprocessing import LabelEncoder\n",
    "from sklearn.model_selection import GridSearchCV\n",
    "from sklearn.ensemble import GradientBoostingClassifier\n",
    "import numpy as np\n",
    "\n",
    "print(\"data3.pickle open...\")\n",
    "data_dict = pickle.load(open('./data3.pickle', 'rb'))\n",
    "data = np.asarray(data_dict['data'])\n",
    "labels = np.asarray(data_dict['labels'])\n",
    "\n",
    "print(\"data shuffle...\")\n",
    "x_train, x_test, y_train, y_test = train_test_split(data, labels, test_size=0.25, shuffle=True, stratify=labels)\n",
    "x_train, x_temp, y_train, y_temp = train_test_split(data, labels, test_size=0.25,shuffle=True, stratify=labels)\n",
    "x_val, x_test, y_val, y_test = train_test_split(data, labels, test_size=0.25,shuffle=True, stratify=labels)"
   ]
  },
  {
   "cell_type": "code",
   "execution_count": null,
   "id": "b00ea23d",
   "metadata": {},
   "outputs": [],
   "source": [
    "model = RandomForestClassifier(n_estimators = 1000,\n",
    "                              max_depth = 10,\n",
    "                              min_samples_leaf = 4,\n",
    "                              min_samples_split = 10,\n",
    "                              random_state = 0,\n",
    "                              n_jobs = -1)\n",
    "\n",
    "\n",
    "# model = MLPClassifier(hidden_layer_sizes=(100, 50),  # Adjust number of neurons in each hidden layer\n",
    "#                       max_iter=500,  # Max number of iterations for training\n",
    "#                       random_state=1)\n",
    "\n",
    "\n",
    "# model = GradientBoostingClassifier(random_state=0)\n",
    "\n",
    "print(\"model ready...\")\n",
    "model.fit(x_train, y_train)"
   ]
  },
  {
   "cell_type": "code",
   "execution_count": null,
   "id": "cd8ec785-7d1a-457a-a249-bb8c343852ca",
   "metadata": {},
   "outputs": [],
   "source": [
    "#  예측\n",
    "train_pred = model.predict(x_train)\n",
    "val_pred = model.predict(x_val)\n",
    "test_pred = model.predict(x_test)\n",
    "\n",
    "print(\"predict...\")\n",
    "train_acc = accuracy_score(y_train, train_pred)\n",
    "test_acc = accuracy_score(y_test, test_pred)\n",
    "val_acc = accuracy_score(y_val, val_pred)\n",
    "\n",
    "print(\"score...\")\n",
    "print(f\"train accuracy is {train_acc:.4f}\")\n",
    "# print(f\"test accuracy is {test_acc:.4f}\")\n",
    "# print(f\"val accuracy is {val_acc:.4f}\")\n",
    "# print('{}% of samples were classified correctly !'.format(score * 100))\n",
    "\n",
    "print(x_train)\n",
    "\n",
    "f = open('model.p', 'wb')\n",
    "pickle.dump({'model': model}, f)\n",
    "f.close()"
   ]
  },
  {
   "cell_type": "code",
   "execution_count": null,
   "id": "836572cb-d322-4862-8c05-0c4f32dd9270",
   "metadata": {},
   "outputs": [],
   "source": [
    "params = {\n",
    "    'n_estimators':[100, 500],\n",
    "    'learning_rate' : [ 0.05, 0.1]\n",
    "}\n",
    "grid_cv = GridSearchCV(model , param_grid=params , cv=2 ,verbose=1)\n",
    "grid_cv.fit(x_train , y_train)\n",
    "print('최적 하이퍼 파라미터:\\n', grid_cv.best_params_)\n",
    "print('최고 예측 정확도: {0:.4f}'.format(grid_cv.best_score_))"
   ]
  },
  {
   "cell_type": "code",
   "execution_count": null,
   "id": "4eb65c86-b0b0-4ac7-b8f3-23f9268cd79d",
   "metadata": {},
   "outputs": [],
   "source": [
    "from sklearn.metrics import classification_report, confusion_matrix\n",
    "print( classification_report(y_test, test_pred))"
   ]
  },
  {
   "cell_type": "code",
   "execution_count": null,
   "id": "0b336c00-4507-4f35-a999-6d967e89e1c5",
   "metadata": {},
   "outputs": [],
   "source": [
    "feature_importance.head(20).plot(kind=\"barh\")"
   ]
  },
  {
   "cell_type": "code",
   "execution_count": null,
   "id": "09036171-8b79-4fed-b974-22e4605e261a",
   "metadata": {},
   "outputs": [],
   "source": [
    "from sklearn.model_selection import GridSearchCV\n",
    "\n",
    "params = { 'n_estimators' : [10, 100, 500],\n",
    "           'max_depth' : [6, 8, 10, 12, 24],\n",
    "           'min_samples_leaf' : [8, 12, 18, 24],\n",
    "           'min_samples_split' : [8, 16, 20]\n",
    "            }\n",
    "\n",
    "# RandomForestClassifier 객체 생성 후 GridSearchCV 수행\n",
    "model = RandomForestClassifier(random_state = 0, n_jobs = -1)\n",
    "grid_cv = GridSearchCV(model, param_grid = params, cv = 3, n_jobs = -1)\n",
    "grid_cv.fit(x_train, y_train)\n",
    "\n",
    "print('최적 하이퍼 파라미터: ', grid_cv.best_params_)\n",
    "print('최고 예측 정확도: {:.4f}'.format(grid_cv.best_score_))"
   ]
  },
  {
   "cell_type": "code",
   "execution_count": null,
   "id": "1b931819-ac33-4546-9343-277c5167b4f9",
   "metadata": {},
   "outputs": [],
   "source": []
  }
 ],
 "metadata": {
  "kernelspec": {
   "display_name": "Python 3 (ipykernel)",
   "language": "python",
   "name": "python3"
  },
  "language_info": {
   "codemirror_mode": {
    "name": "ipython",
    "version": 3
   },
   "file_extension": ".py",
   "mimetype": "text/x-python",
   "name": "python",
   "nbconvert_exporter": "python",
   "pygments_lexer": "ipython3",
   "version": "3.11.7"
  }
 },
 "nbformat": 4,
 "nbformat_minor": 5
}
