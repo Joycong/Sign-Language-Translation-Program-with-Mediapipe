import pickle
import sklearn

from sklearn.ensemble import RandomForestClassifier
from sklearn.model_selection import train_test_split
from sklearn.metrics import accuracy_score
from sklearn.neural_network import MLPClassifier
from sklearn.preprocessing import LabelEncoder
from sklearn.model_selection import GridSearchCV
from sklearn.ensemble import GradientBoostingClassifier
import numpy as np

print("data.pickle open...")
data_dict = pickle.load(open('./data.pickle', 'rb'))
data = np.asarray(data_dict['data'])
labels = np.asarray(data_dict['labels'])

print("data shuffle...")
x_train, x_test, y_train, y_test = train_test_split(data, labels, test_size=0.25, shuffle=True, stratify=labels)
x_train, x_temp, y_train, y_temp = train_test_split(data, labels, test_size=0.25,shuffle=True, stratify=labels)
x_val, x_test, y_val, y_test = train_test_split(data, labels, test_size=0.25,shuffle=True, stratify=labels)


model = RandomForestClassifier(n_estimators = 1000,
                              max_depth = 10,
                              min_samples_leaf = 4,
                              min_samples_split = 10,
                              random_state = 0,
                              n_jobs = -1)


# model = MLPClassifier(hidden_layer_sizes=(100, 50),  # Adjust number of neurons in each hidden layer
#                       max_iter=500,  # Max number of iterations for training
#                       random_state=1)


# model = GradientBoostingClassifier(random_state=0)

print("model ready...")
model.fit(x_train, y_train)


#  예측
train_pred = model.predict(x_train)
val_pred = model.predict(x_val)
test_pred = model.predict(x_test)

print("predict...")
train_acc = accuracy_score(y_train, train_pred)
test_acc = accuracy_score(y_test, test_pred)
val_acc = accuracy_score(y_val, val_pred)

print("score...")
print(f"train accuracy is {train_acc:.4f}")
# print(f"test accuracy is {test_acc:.4f}")
# print(f"val accuracy is {val_acc:.4f}")
# print('{}% of samples were classified correctly !'.format(score * 100))

print(x_train)

f = open('model.p', 'wb')
pickle.dump({'model': model}, f)
f.close()
